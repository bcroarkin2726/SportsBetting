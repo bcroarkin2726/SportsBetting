{
 "cells": [
  {
   "cell_type": "code",
   "execution_count": 24,
   "metadata": {},
   "outputs": [],
   "source": [
    "def betPayout(betSize, betOdds, returnType = 'profit'):\n",
    "    \"\"\"\n",
    "    @betSize (float) the dollar size of the bet\n",
    "    @betOdds (str) the American odds of the bet. Must be prefaced with a '+' or '-'\n",
    "    @returnType (str) either the profit from the bet or the total payout ('profit' or 'payout')\n",
    "    \n",
    "    Takes in a bet size and odds and returns either the total payout or the profit.\n",
    "    \"\"\"\n",
    "    if betOdds[0] == '+':\n",
    "        if len(betOdds) > 3:\n",
    "            betOdds = int(betOdds[1:])\n",
    "            profit = round(betSize * betOdds / 100,2)\n",
    "            if returnType == 'profit':\n",
    "                return(profit)\n",
    "            else:\n",
    "                return(profit + betSize)\n",
    "        else:\n",
    "            print(\"American odds must be greater than 100 or less than -100\")\n",
    "    elif betOdds[0] == '-':\n",
    "        if len(betOdds) > 3:\n",
    "            betOdds = int(betOdds[1:])\n",
    "            profit = round(betSize / (betOdds/100) ,2)\n",
    "            if returnType == 'profit':\n",
    "                return(profit)\n",
    "            else:\n",
    "                return(profit + betSize)\n",
    "        else:\n",
    "            print(\"American odds must be greater than 100 or less than -100\")\n",
    "    else:\n",
    "        print(\"Bet odds must begin with a '+' or '-'\")"
   ]
  },
  {
   "cell_type": "code",
   "execution_count": 62,
   "metadata": {},
   "outputs": [],
   "source": [
    "def findBetSize(desiredProfit, betOdds):\n",
    "    \"\"\"\n",
    "    @desiredProfit (float) the dollar profit you want returned from the bet\n",
    "    @betOdds (str) the American odds of the bet. Must be prefaced with a '+' or '-'\n",
    "    \n",
    "    Takes in a desired profit and bet odds and determines how much must be wagered at the given odds to get the desired\n",
    "    payout. For example, if you want $100 profit from a game with a -110 bet odds, you need to wager $110.\n",
    "    \"\"\"\n",
    "    if (betOdds[0] == '+'):\n",
    "        if len(betOdds) > 3:\n",
    "            betOdds = int(betOdds[1:])\n",
    "            return round((desiredProfit * 100) / betOdds,2)\n",
    "        else:\n",
    "            print(\"American odds must be greater than 100 or less than -100\")\n",
    "    elif betOdds[0] == '-':\n",
    "        if len(betOdds) > 3:\n",
    "            betOdds = int(betOdds[1:])\n",
    "            return round((desiredProfit * betOdds) / 100,2)\n",
    "        else:\n",
    "            print(\"American odds must be greater than 100 or less than -100\")\n",
    "    else:\n",
    "        print(\"Bet odds must begin with a '+' or '-'\")"
   ]
  },
  {
   "cell_type": "code",
   "execution_count": 96,
   "metadata": {},
   "outputs": [],
   "source": [
    "def findBetSizePayout(desiredPayout, betOdds):\n",
    "    \"\"\"\n",
    "    @desiredPayout (float) the dollar return you want from the bet\n",
    "    @betOdds (str) the American odds of the bet. Must be prefaced with a '+' or '-'\n",
    "    \n",
    "    Takes in a desired payout and bet odds and determines how much must be wagered at the given odds to get the desired\n",
    "    payout. For example, if you want $100 payout from a game with a -110 bet odds, you need to wager $52.38\n",
    "    \"\"\"\n",
    "    if (betOdds[0] == '+'):\n",
    "        if len(betOdds) > 3:\n",
    "            probability = impliedOdds(betOdds) / 100\n",
    "            betSize = desiredPayout * probability\n",
    "            return(betSize)\n",
    "        else:\n",
    "            print(\"American odds must be greater than 100 or less than -100\")\n",
    "    elif betOdds[0] == '-':\n",
    "        if len(betOdds) > 3:\n",
    "            probability = impliedOdds(betOdds) / 100\n",
    "            betSize = desiredPayout * probability\n",
    "            return(betSize)\n",
    "        else:\n",
    "            print(\"American odds must be greater than 100 or less than -100\")\n",
    "    else:\n",
    "        print(\"Bet odds must begin with a '+' or '-'\")"
   ]
  },
  {
   "cell_type": "code",
   "execution_count": 3,
   "metadata": {},
   "outputs": [],
   "source": [
    "def american2DecimalOdds(americanBetOdds):\n",
    "    \"\"\"\n",
    "    @betOdds (str) the American odds of the bet. Must be prefaced with a '+' or '-'\n",
    "    \n",
    "    Returns the bet odds in decimal format. \n",
    "    \"\"\"\n",
    "    if (americanBetOdds[0] == '+'):\n",
    "        americanBetOdds = int(americanBetOdds[1:])\n",
    "        decimalOdds = (americanBetOdds/100) + 1\n",
    "        # Return the decimalOdds in a clean format\n",
    "        return(round(decimalOdds,2))\n",
    "    elif americanBetOdds[0] == '-':\n",
    "        americanBetOdds = int(americanBetOdds[1:])\n",
    "        decimalOdds = (100/americanBetOdds) + 1\n",
    "        # Return the decimalOdds in a clean format\n",
    "        return(round(decimalOdds,2))\n",
    "    else:\n",
    "        print(\"Bet odds must begin with a '+' or '-'\")"
   ]
  },
  {
   "cell_type": "code",
   "execution_count": 75,
   "metadata": {},
   "outputs": [],
   "source": [
    "def impliedOdds(betOdds):\n",
    "    \"\"\"\n",
    "    @betOdds (str) the American odds of the bet. Must be prefaced with a '+' or '-'\n",
    "    \n",
    "    Takes in the betOdds and returns the implied probability of the bet\n",
    "    \"\"\"\n",
    "    # First need to convert the American odds to decimal odds\n",
    "    decimalOdds = american2DecimalOdds(betOdds)\n",
    "    \n",
    "    # Use the decimal odds to return the implied probability\n",
    "    probability = 1/decimalOdds * 100\n",
    "    \n",
    "    # Return the probability rounded to the nearest whole number\n",
    "    return(round(probability))"
   ]
  },
  {
   "cell_type": "code",
   "execution_count": 5,
   "metadata": {},
   "outputs": [],
   "source": [
    "def betsPayoutReport(bet1Size, bet1Odds, bet2Size, bet2Odds):\n",
    "    \"\"\"\n",
    "    @bet1Size (float) the dollar size of the first bet\n",
    "    @bet1Odds (str) the American odds of the first bet. Must be prefaced with a '+' or '-'\n",
    "    @bet2Size (float) the dollar size of the flip side of the bet\n",
    "    @bet2Odds (str) the American odds of the other side of the bet. Must be prefaced with a '+' or '-'\n",
    "    \n",
    "    Prints out in a pretty format the payout outcomes of a hedge opportunity in the two different scenarios.\n",
    "    \"\"\"\n",
    "    bet1Payout = round(betPayout(bet1Size, bet1Odds),2)\n",
    "    bet2Payout = round(betPayout(bet2Size, bet2Odds),2)\n",
    "    bet1Profit = round(betPayout(bet1Size, bet1Odds) - bet2Size,2)\n",
    "    bet2Profit = round(betPayout(bet2Size, bet2Odds) - bet1Size,2)\n",
    "    \n",
    "    print(f\"    If bet 1 wins, you'll get a payout of ${bet1Payout} and make a profit of ${bet1Profit}\")\n",
    "    print(f\"    If bet 2 wins, you'll get a payout of ${bet2Payout} and make a profit of ${bet2Profit}\")"
   ]
  },
  {
   "cell_type": "code",
   "execution_count": 6,
   "metadata": {},
   "outputs": [],
   "source": [
    "def betsPayout(bet1Size, bet1Odds, bet2Size, bet2Odds):\n",
    "    \"\"\"\n",
    "    @bet1Size (float) the dollar size of the first bet\n",
    "    @bet1Odds (str) the American odds of the first bet. Must be prefaced with a '+' or '-'\n",
    "    @bet2Size (float) the dollar size of the flip side of the bet\n",
    "    @bet2Odds (str) the American odds of the other side of the bet. Must be prefaced with a '+' or '-'\n",
    "    \n",
    "    Returns in a tuple the bet1Profit and bet2Profit\n",
    "    \"\"\"\n",
    "    bet1Payout = round(betPayout(bet1Size, bet1Odds),2)\n",
    "    bet2Payout = round(betPayout(bet2Size, bet2Odds),2)\n",
    "    bet1Profit = round(betPayout(bet1Size, bet1Odds) - bet2Size,2)\n",
    "    bet2Profit = round(betPayout(bet2Size, bet2Odds) - bet1Size,2)\n",
    "    \n",
    "    return [bet1Profit, bet2Profit]"
   ]
  },
  {
   "cell_type": "code",
   "execution_count": 7,
   "metadata": {},
   "outputs": [],
   "source": [
    "def hedgeCalculator(bet1Size, bet1Odds, bet2Odds, return_format = 'all',  originalBet1Odds = 'N/A'):\n",
    "    \"\"\"\n",
    "    @betSize (float) the dollar size of the bet\n",
    "    @betOdds (str) the American odds of the bet. Must be prefaced with a '+' or '-'\n",
    "    @return_format how to return the outputs\n",
    "        - 'all' = returns all the bet2 possibilities that guarantee profit with $1 iterations\n",
    "        - 'single' = returns the bet2 value that most closely matches the profit outcomes\n",
    "        - 'mutli' = returns the bet2 value that most closely matches the profit outcomes and one additional bet\n",
    "                    higher and lower than this value by $1\n",
    "        - 'proportional' = returns the bet2 value that aligns the returns with the ratio of the bets implied odds\n",
    "    \n",
    "    Given a hedge opportunity on bet 1 with boosted positive odds and the flip side of the bet with negative odds, list \n",
    "    all the bet 1 and bet 2 sizes that guarantee profit/no loss.\n",
    "    The bet1Odds are required to be positive in order for this to be a hedge opportunity.\n",
    "    These two bets need to be flip sides of a single bet that has two discrete outcomes.\n",
    "    (i.e. the O/U for the same game that is set at .5)\n",
    "    \"\"\"\n",
    "    if (bet1Odds[0] == '-') & (int(bet2Odds[1:]) < int(bet1Odds[1:])):\n",
    "        print(\"Positive odds has to be greater than the negative odds for there to be a hedge opportunity\")\n",
    "    else:\n",
    "        # First determine the payout of the first bet\n",
    "        bet1Profit = betPayout(bet1Size, bet1Odds)\n",
    "\n",
    "        # Need to find the minimum bet2Size to match the bet1Size, given the bet2Odds\n",
    "\n",
    "        # To do this, I first should find the payout that matches the bet1Size\n",
    "        # At this bet size, if this second bet wins we breakeven\n",
    "        breakEvenBet2 = findBetSize(bet1Size, bet2Odds)\n",
    "        bet1Profit = round(betPayout(bet1Size, bet1Odds) - breakEvenBet2,2)\n",
    "        \n",
    "        if return_format.lower() == 'all':\n",
    "            # Give the report\n",
    "            print(f\"If you bet ${breakEvenBet2} on bet 2, then your payout opportunities are...\")\n",
    "            betsPayoutReport(bet1Size, bet1Odds, breakEvenBet2, bet2Odds)\n",
    "\n",
    "            while bet1Profit > 0:\n",
    "                # Increment the second bet by a dollar\n",
    "                breakEvenBet2 += 1\n",
    "                # Update the bet1Profit\n",
    "                bet1Profit = round(betPayout(bet1Size, bet1Odds) - breakEvenBet2,2)\n",
    "                # Give the report\n",
    "                print(f\"If you bet ${breakEvenBet2} on bet 2, then your payout opportunities are...\")\n",
    "                betsPayoutReport(bet1Size, bet1Odds, breakEvenBet2, bet2Odds)\n",
    "                # Update the bet1Profit\n",
    "                bet1Profit = round(betPayout(bet1Size, bet1Odds) - breakEvenBet2,2)\n",
    "        \n",
    "        elif return_format.lower() == 'single':\n",
    "            # Store the bet payouts in a list\n",
    "            betsInfo = []\n",
    "\n",
    "            while bet1Profit > 0:\n",
    "                # Increment the second bet by a dollar\n",
    "                breakEvenBet2 += 1\n",
    "                # Update the bet1Profit\n",
    "                bet1Profit = round(betPayout(bet1Size, bet1Odds) - breakEvenBet2,2)\n",
    "                # Find out the bet payouts\n",
    "                payouts = betsPayout(bet1Size, bet1Odds, breakEvenBet2, bet2Odds)\n",
    "                # Add the breakEvenBet2 point to the betPayouts list\n",
    "                payouts.append(breakEvenBet2)\n",
    "                # Add to the betPayouts list\n",
    "                betsInfo.append(payouts)\n",
    "\n",
    "            # Loop over betsInfo and find the payout differences\n",
    "            payoutDiffs = []\n",
    "            for info in betsInfo:\n",
    "                bet1Profit = info[0]\n",
    "                bet2Profit = info[1]\n",
    "                diff = bet1Profit - bet2Profit\n",
    "                payoutDiffs.append(diff)\n",
    "\n",
    "            # I want the lowest negative value as it gives near equal weighting to each side of the bet\n",
    "            # while also giving slight $ weight to the more favored side\n",
    "            negPayouts = [x for x in payoutDiffs if x < 0]\n",
    "            minNegPayout = max(negPayouts)\n",
    "            # Return the index of the value in the list so I can print the \n",
    "            index = payoutDiffs.index(minNegPayout)\n",
    "            # Find the breakEvenBet2 at this index value\n",
    "            breakEvenBet2 = betsInfo[index][2]\n",
    "\n",
    "            # Return the betsPayoutReport for the minNegPayout option\n",
    "            print(f\"If you bet ${breakEvenBet2} on bet 2, then your payout opportunities are...\")\n",
    "            betsPayoutReport(bet1Size, bet1Odds, breakEvenBet2, bet2Odds)      \n",
    " \n",
    "        elif return_format.lower() == 'multi':\n",
    "            # Store the bet payouts in a list\n",
    "            betsInfo = []\n",
    "\n",
    "            while bet1Profit > 0:\n",
    "                # Increment the second bet by a dollar\n",
    "                breakEvenBet2 += 1\n",
    "                # Update the bet1Profit\n",
    "                bet1Profit = round(betPayout(bet1Size, bet1Odds) - breakEvenBet2,2)\n",
    "                # Find out the bet payouts\n",
    "                payouts = betsPayout(bet1Size, bet1Odds, breakEvenBet2, bet2Odds)\n",
    "                # Add the breakEvenBet2 point to the betPayouts list\n",
    "                payouts.append(breakEvenBet2)\n",
    "                # Add to the betPayouts list\n",
    "                betsInfo.append(payouts)\n",
    "\n",
    "            # Loop over betsInfo and find the payout differences\n",
    "            payoutDiffs = []\n",
    "            for info in betsInfo:\n",
    "                bet1Profit = info[0]\n",
    "                bet2Profit = info[1]\n",
    "                diff = bet1Profit - bet2Profit\n",
    "                payoutDiffs.append(diff)\n",
    "\n",
    "            # I want the lowest negative value as it gives near equal weighting to each side of the bet\n",
    "            # while also giving slight $ weight to the more favored side\n",
    "            negPayouts = [x for x in payoutDiffs if x < 0]\n",
    "            minNegPayout = max(negPayouts)\n",
    "            # Return the index of the value in the list so I can print the \n",
    "            index = payoutDiffs.index(minNegPayout)\n",
    "            # Find the breakEvenBet2 at this index value\n",
    "            breakEvenBet2 = round(betsInfo[index][2],2)\n",
    "            # Create a list of 3 breakEvenBet2's\n",
    "            breakEvenBet2List = [breakEvenBet2 - 1, breakEvenBet2, breakEvenBet2 + 1]\n",
    "\n",
    "            # Return the betsPayoutReport for the minNegPayout option and $1 higher and $1 lower\n",
    "            for bet in breakEvenBet2List:\n",
    "                print(f\"If you bet ${bet} on bet 2, then your payout opportunities are...\")\n",
    "                betsPayoutReport(bet1Size, bet1Odds, bet, bet2Odds)     \n",
    "            \n",
    "        elif return_format.lower() == 'proportional':\n",
    "            # Store the bet payouts in a list\n",
    "            betsInfo = []\n",
    "\n",
    "            while bet1Profit > 0:\n",
    "                # Increment the second bet by a dollar\n",
    "                breakEvenBet2 += 1\n",
    "                # Update the bet1Profit\n",
    "                bet1Profit = round(betPayout(bet1Size, bet1Odds) - breakEvenBet2,2)\n",
    "                # Find out the bet payouts\n",
    "                payouts = betsPayout(bet1Size, bet1Odds, breakEvenBet2, bet2Odds)\n",
    "                # Add the breakEvenBet2 point to the betPayouts list\n",
    "                payouts.append(breakEvenBet2)\n",
    "                # Add to the betPayouts list\n",
    "                betsInfo.append(payouts)\n",
    "\n",
    "            # Loop over betsInfo and find the payout ratio\n",
    "            payoutRatios = []\n",
    "            for info in betsInfo:\n",
    "                bet1Profit = info[0]\n",
    "                bet2Profit = info[1]\n",
    "                try:\n",
    "                    ratio = bet1Profit/bet2Profit\n",
    "                except:\n",
    "                    ratio = 100\n",
    "                payoutRatios.append(ratio)\n",
    "\n",
    "            # Estimate the orignalBet1Odds if they weren't included\n",
    "            if originalBet1Odds == 'N/A':\n",
    "                x = int(bet1Odds[1:])\n",
    "                if x > 130:\n",
    "                    bet1_unboosted = x - 30\n",
    "                    originalBet1Odds = '+' + str(bet1_unboosted)\n",
    "                elif x > 100:\n",
    "                    diff_to_100 = x - 100\n",
    "                    bet1_unboosted = -diff_to_100 + 130\n",
    "                    originalBet1Odds = '-' + str(bet1_unboosted)\n",
    "                else:\n",
    "                    bet1_unboosted = -x - 30\n",
    "                    originalBet1Odds = '-' + str(bet1_unboosted)\n",
    "\n",
    "            # Determine the implied probabilities for the two bets\n",
    "            impliedOdds1 = impliedOdds(originalBet1Odds)\n",
    "            impliedOdds2 = impliedOdds(bet2Odds)\n",
    "            # Find the ratio of the implied odds\n",
    "            oddsRatio = impliedOdds1/impliedOdds2\n",
    "\n",
    "            # Find the absolute difference between the payoutRatios and the oddsRatio\n",
    "            oddsDiffs = [ abs(x - oddsRatio) for x in payoutRatios ]\n",
    "\n",
    "            # I want the payout options that align most closely with the ratio of the implied probabilities\n",
    "            minDiff = min(oddsDiffs)\n",
    "            # Return the index of the value in the list so I can print the \n",
    "            index = oddsDiffs.index(minDiff)\n",
    "            # Find the optimal bet 2 at this index value\n",
    "            optimalBet2 = betsInfo[index][2]\n",
    "\n",
    "            # Return the betsPayoutReport for the minNegPayout option\n",
    "            print(f\"If you bet ${optimalBet2} on bet 2, then your payout opportunities are...\")\n",
    "            betsPayoutReport(bet1Size, bet1Odds, optimalBet2, bet2Odds)  \n",
    "        \n",
    "        else:\n",
    "            print(\"Select a proper return format. The options include 'all', 'single', and 'proportional'\")"
   ]
  },
  {
   "cell_type": "code",
   "execution_count": 116,
   "metadata": {},
   "outputs": [],
   "source": [
    "def betsPayout_freeBet(bet1Payout, bet2Size, bet2Odds):\n",
    "    \"\"\"\n",
    "    @bet1Size (float) the total dollar return from the bet, including the initial bet\n",
    "    @bet2Size (float) the dollar size of the flip side of the bet\n",
    "    @bet2Odds (str) the American odds of the other side of the bet. Must be prefaced with a '+' or '-'\n",
    "    \n",
    "    Formatted for a free bet where bet1Size is equal to 0. \n",
    "    Returns in a tuple the bet1Profit and bet2Profit\n",
    "    \"\"\"\n",
    "    bet2Payout = round(betPayout(bet2Size, bet2Odds),2)\n",
    "    bet1Profit = round(bet1Payout - bet2Size,2)\n",
    "    bet2Profit = round(betPayout(bet2Size, bet2Odds) - 0,2)\n",
    "    \n",
    "    return [bet1Profit, bet2Profit]"
   ]
  },
  {
   "cell_type": "code",
   "execution_count": 108,
   "metadata": {},
   "outputs": [],
   "source": [
    "def betsPayoutReport_freeBet(bet1Payout, bet2Size, bet2Odds):\n",
    "    \"\"\"\n",
    "    @bet1Size (float) the dollar size of the first bet\n",
    "    @bet1Odds (str) the American odds of the first bet. Must be prefaced with a '+' or '-'\n",
    "    @bet2Size (float) the dollar size of the flip side of the bet\n",
    "    @bet2Odds (str) the American odds of the other side of the bet. Must be prefaced with a '+' or '-'\n",
    "    \n",
    "    Prints out in a pretty format the payout outcomes of a hedge opportunity in the two different scenarios.\n",
    "    \"\"\"\n",
    "    bet2Payout = round(betPayout(bet2Size, bet2Odds),2)\n",
    "    bet1Profit = round(bet1Payout - bet2Size,2)\n",
    "    bet2Profit = round(betPayout(bet2Size, bet2Odds) - 0,2)\n",
    "    \n",
    "    print(f\"    If bet 1 wins, you'll get a payout of ${bet1Payout} and make a profit of ${bet1Profit}\")\n",
    "    print(f\"    If bet 2 wins, you'll get a payout of ${bet2Payout} and make a profit of ${bet2Profit}\")"
   ]
  },
  {
   "cell_type": "code",
   "execution_count": 113,
   "metadata": {},
   "outputs": [],
   "source": [
    "def hedgeCalculator_freeBet(bet1Payout, bet2Odds):\n",
    "    \"\"\"\n",
    "    @betSize (float) the dollar size of the bet\n",
    "    @betOdds (str) the American odds of the bet. Must be prefaced with a '+' or '-'\n",
    "    @return_format how to return the outputs\n",
    "        - 'all' = returns all the bet2 possibilities that guarantee profit with $1 iterations\n",
    "        - 'single' = returns the bet2 value that most closely matches the profit outcomes\n",
    "        - 'mutli' = returns the bet2 value that most closely matches the profit outcomes and one additional bet\n",
    "                    higher and lower than this value by $1\n",
    "        - 'proportional' = returns the bet2 value that aligns the returns with the ratio of the bets implied odds\n",
    "    \n",
    "    \n",
    "    Given a FREE BET, where the bet1size is 0, find the bet on the flip side of this that results in equal returns, \n",
    "    regardless of the bet result.\n",
    "    These two bets need to be flip sides of a single bet that has two discrete outcomes.\n",
    "    (i.e. the O/U for the same game that is set at .5)\n",
    "    \"\"\"\n",
    "    \n",
    "    ## To do this, I want to find the bet2size that equal the bet1Payout\n",
    "    bet2Size = findBetSizePayout(bet1Payout, bet2Odds)\n",
    "    bet2Size = round(bet2Size, 2)\n",
    "    \n",
    "    # Return the betsPayoutReport for the minNegPayout option\n",
    "    print(f\"If you bet ${bet2Size} on bet 2, then your payout opportunities are...\")\n",
    "    betsPayoutReport2(bet1Payout, bet2Size, bet2Odds)      "
   ]
  },
  {
   "cell_type": "code",
   "execution_count": 115,
   "metadata": {},
   "outputs": [
    {
     "name": "stdout",
     "output_type": "stream",
     "text": [
      "If you bet $22.5 on bet 2, then your payout opportunities are...\n",
      "    If bet 1 wins, you'll get a payout of $50 and make a profit of $27.5\n",
      "    If bet 2 wins, you'll get a payout of $27.0 and make a profit of $27.0\n"
     ]
    }
   ],
   "source": [
    "hedgeCalculator_freeBet(50, '+120')"
   ]
  },
  {
   "cell_type": "code",
   "execution_count": 30,
   "metadata": {},
   "outputs": [
    {
     "name": "stdout",
     "output_type": "stream",
     "text": [
      "If you bet $29.0 on bet 2, then your payout opportunities are...\n",
      "    If bet 1 wins, you'll get a payout of $34.0 and make a profit of $5.0\n",
      "    If bet 2 wins, you'll get a payout of $29.0 and make a profit of $4.0\n",
      "If you bet $30.0 on bet 2, then your payout opportunities are...\n",
      "    If bet 1 wins, you'll get a payout of $34.0 and make a profit of $4.0\n",
      "    If bet 2 wins, you'll get a payout of $30.0 and make a profit of $5.0\n",
      "If you bet $31.0 on bet 2, then your payout opportunities are...\n",
      "    If bet 1 wins, you'll get a payout of $34.0 and make a profit of $3.0\n",
      "    If bet 2 wins, you'll get a payout of $31.0 and make a profit of $6.0\n"
     ]
    }
   ],
   "source": [
    "hedgeCalculator(25, '+136', '+100', return_format = 'multi')"
   ]
  },
  {
   "cell_type": "code",
   "execution_count": 82,
   "metadata": {},
   "outputs": [
    {
     "name": "stdout",
     "output_type": "stream",
     "text": [
      "    If bet 1 wins, you'll get a payout of $75.0 and make a profit of $5.0\n",
      "    If bet 2 wins, you'll get a payout of $61.4 and make a profit of $11.4\n"
     ]
    }
   ],
   "source": [
    "betsPayoutReport(50, '+150', 70, '-114')"
   ]
  },
  {
   "cell_type": "code",
   "execution_count": 13,
   "metadata": {},
   "outputs": [
    {
     "data": {
      "text/plain": [
       "(5.0, 11.4)"
      ]
     },
     "execution_count": 13,
     "metadata": {},
     "output_type": "execute_result"
    }
   ],
   "source": [
    "betsPayout(50, '+150', 70, '-114')"
   ]
  },
  {
   "cell_type": "code",
   "execution_count": 26,
   "metadata": {},
   "outputs": [
    {
     "data": {
      "text/plain": [
       "31.32"
      ]
     },
     "execution_count": 26,
     "metadata": {},
     "output_type": "execute_result"
    }
   ],
   "source": [
    "betPayout(27, '+116', returnType = 'profit')"
   ]
  },
  {
   "cell_type": "code",
   "execution_count": 37,
   "metadata": {},
   "outputs": [
    {
     "data": {
      "text/plain": [
       "51.7"
      ]
     },
     "execution_count": 37,
     "metadata": {},
     "output_type": "execute_result"
    }
   ],
   "source": [
    "findBetSize(47, '-110')"
   ]
  },
  {
   "cell_type": "code",
   "execution_count": 77,
   "metadata": {},
   "outputs": [
    {
     "data": {
      "text/plain": [
       "33"
      ]
     },
     "execution_count": 77,
     "metadata": {},
     "output_type": "execute_result"
    }
   ],
   "source": [
    "impliedOdds('+200')"
   ]
  },
  {
   "cell_type": "code",
   "execution_count": 71,
   "metadata": {},
   "outputs": [
    {
     "data": {
      "text/plain": [
       "1.33"
      ]
     },
     "execution_count": 71,
     "metadata": {},
     "output_type": "execute_result"
    }
   ],
   "source": [
    "american2DecimalOdds('0')"
   ]
  }
 ],
 "metadata": {
  "kernelspec": {
   "display_name": "Python 3",
   "language": "python",
   "name": "python3"
  },
  "language_info": {
   "codemirror_mode": {
    "name": "ipython",
    "version": 3
   },
   "file_extension": ".py",
   "mimetype": "text/x-python",
   "name": "python",
   "nbconvert_exporter": "python",
   "pygments_lexer": "ipython3",
   "version": "3.9.0"
  }
 },
 "nbformat": 4,
 "nbformat_minor": 4
}
